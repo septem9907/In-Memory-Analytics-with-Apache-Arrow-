{
 "cells": [
  {
   "cell_type": "markdown",
   "id": "16810c94-5298-49c2-9e2d-ded050ce23ec",
   "metadata": {},
   "source": [
    "# Chapter 3\n",
    "\n",
    "If you've used `git lfs` to download the sample data files, you'll have pulled down the sliced.parquet file, run the next cell to generate the csv file from it before moving on!\n",
    "\n",
    "If you already have the `sliced.csv` file, you can skip this cell"
   ]
  },
  {
   "cell_type": "code",
   "execution_count": 1,
   "id": "b9390dbb-cc11-4a73-b21a-b8295ceddf52",
   "metadata": {
    "tags": []
   },
   "outputs": [],
   "source": [
    "# import pyarrow as pa\n",
    "# import pyarrow.csv\n",
    "# import pyarrow.parquet as pq\n",
    "\n",
    "# # write out csv version of the parquet file that is provided in the repo\n",
    "# sliced = pq.read_table('../sample_data/sliced.parquet')\n",
    "# pa.csv.write_csv(sliced, '../sample_data/sliced.csv')"
   ]
  },
  {
   "cell_type": "code",
   "execution_count": 1,
   "id": "d14a5402-9fc0-4c37-a4cc-3bcc66aaa8a5",
   "metadata": {
    "slideshow": {
     "slide_type": "slide"
    },
    "tags": [
     "startup"
    ]
   },
   "outputs": [
    {
     "name": "stdout",
     "output_type": "stream",
     "text": [
      "22/10/29 20:44:53 WARN Utils: Your hostname, Jiajuns-Mac-mini.local resolves to a loopback address: 127.0.0.1; using 192.168.1.73 instead (on interface en1)\n",
      "22/10/29 20:44:53 WARN Utils: Set SPARK_LOCAL_IP if you need to bind to another address\n",
      ":: loading settings :: url = jar:file:/Users/septem9907/Documents/GitHub/In-Memory-Analytics-with-Apache-Arrow-/arrow_playground/lib/python3.9/site-packages/pyspark/jars/ivy-2.5.0.jar!/org/apache/ivy/core/settings/ivysettings.xml\n"
     ]
    },
    {
     "name": "stderr",
     "output_type": "stream",
     "text": [
      "Ivy Default Cache set to: /Users/septem9907/.ivy2/cache\n",
      "The jars for the packages stored in: /Users/septem9907/.ivy2/jars\n",
      "org.apache.hadoop#hadoop-aws added as a dependency\n",
      ":: resolving dependencies :: org.apache.spark#spark-submit-parent-2f4d2033-f307-46be-ace6-4a1454b9f927;1.0\n",
      "\tconfs: [default]\n",
      "\tfound org.apache.hadoop#hadoop-aws;3.3.1 in central\n",
      "\tfound com.amazonaws#aws-java-sdk-bundle;1.11.901 in central\n",
      "\tfound org.wildfly.openssl#wildfly-openssl;1.0.7.Final in central\n",
      ":: resolution report :: resolve 112ms :: artifacts dl 5ms\n",
      "\t:: modules in use:\n",
      "\tcom.amazonaws#aws-java-sdk-bundle;1.11.901 from central in [default]\n",
      "\torg.apache.hadoop#hadoop-aws;3.3.1 from central in [default]\n",
      "\torg.wildfly.openssl#wildfly-openssl;1.0.7.Final from central in [default]\n",
      "\t---------------------------------------------------------------------\n",
      "\t|                  |            modules            ||   artifacts   |\n",
      "\t|       conf       | number| search|dwnlded|evicted|| number|dwnlded|\n",
      "\t---------------------------------------------------------------------\n",
      "\t|      default     |   3   |   0   |   0   |   0   ||   3   |   0   |\n",
      "\t---------------------------------------------------------------------\n",
      ":: retrieving :: org.apache.spark#spark-submit-parent-2f4d2033-f307-46be-ace6-4a1454b9f927\n",
      "\tconfs: [default]\n",
      "\t0 artifacts copied, 3 already retrieved (0kB/5ms)\n"
     ]
    },
    {
     "name": "stdout",
     "output_type": "stream",
     "text": [
      "22/10/29 20:44:53 WARN NativeCodeLoader: Unable to load native-hadoop library for your platform... using builtin-java classes where applicable\n"
     ]
    },
    {
     "name": "stderr",
     "output_type": "stream",
     "text": [
      "Setting default log level to \"WARN\".\n",
      "To adjust logging level use sc.setLogLevel(newLevel). For SparkR, use setLogLevel(newLevel).\n"
     ]
    }
   ],
   "source": [
    "import pyspark as pyspark\n",
    "from pyspark import SparkContext\n",
    "conf = pyspark.SparkConf()\n",
    "conf.set(\"spark.executor.memory\", \"8g\")\n",
    "conf.set(\"spark.driver.memory\", \"8g\")\n",
    "conf.set('spark.jars.packages', 'org.apache.hadoop:hadoop-aws:3.3.1')\n",
    "sc = SparkContext(conf=conf)\n",
    "sc._jsc.hadoopConfiguration().set('fs.s3a.aws.credentials.provider', 'org.apache.hadoop.fs.s3a.AnonymousAWSCredentialsProvider')\n",
    "sc._jsc.hadoopConfiguration().set('fs.s3a.impl', 'org.apache.hadoop.fs.s3a.S3AFileSystem')\n",
    "\n",
    "from pyspark.sql import SparkSession\n",
    "spark = SparkSession(sc)"
   ]
  },
  {
   "cell_type": "code",
   "execution_count": 2,
   "id": "74d77f0d-6823-4a5e-b515-7dd97f4d2af6",
   "metadata": {},
   "outputs": [
    {
     "name": "stdout",
     "output_type": "stream",
     "text": [
      "CPU times: user 3.25 s, sys: 1.18 s, total: 4.44 s\n",
      "Wall time: 1.72 s\n"
     ]
    }
   ],
   "source": [
    "%%time\n",
    "import pyarrow as pa\n",
    "import pyarrow.csv\n",
    "import pyarrow.parquet as pq\n",
    "\n",
    "pdf = pa.csv.read_csv('../sample_data/sliced.csv').to_pandas()"
   ]
  },
  {
   "cell_type": "code",
   "execution_count": 3,
   "id": "8d95b706-56aa-4cdf-b7fa-54250388acd7",
   "metadata": {},
   "outputs": [
    {
     "name": "stderr",
     "output_type": "stream",
     "text": [
      "[Stage 1:>                                                          (0 + 8) / 8]\r"
     ]
    },
    {
     "name": "stdout",
     "output_type": "stream",
     "text": [
      "CPU times: user 3.94 ms, sys: 4.52 ms, total: 8.46 ms\n",
      "Wall time: 6.03 s\n"
     ]
    },
    {
     "name": "stderr",
     "output_type": "stream",
     "text": [
      "                                                                                \r"
     ]
    }
   ],
   "source": [
    "%time df = spark.read.format('csv').load('../sample_data/sliced.csv', inferSchema='true', header='true')"
   ]
  },
  {
   "cell_type": "code",
   "execution_count": 4,
   "id": "48fc0fe8-6ee6-412b-9315-d08bb93e17a9",
   "metadata": {},
   "outputs": [],
   "source": [
    "spark.conf.set(\"spark.sql.execution.arrow.pyspark.enabled\", \"true\")"
   ]
  },
  {
   "cell_type": "code",
   "execution_count": 5,
   "id": "10db3d32-acef-4b31-9ff0-2c1c229f0ce3",
   "metadata": {},
   "outputs": [
    {
     "name": "stderr",
     "output_type": "stream",
     "text": [
      "/Users/septem9907/Documents/GitHub/In-Memory-Analytics-with-Apache-Arrow-/arrow_playground/lib/python3.9/site-packages/pyspark/sql/pandas/conversion.py:604: FutureWarning: iteritems is deprecated and will be removed in a future version. Use .items instead.\n",
      "  [(c, t) for (_, c), t in zip(pdf_slice.iteritems(), arrow_types)]\n"
     ]
    },
    {
     "name": "stdout",
     "output_type": "stream",
     "text": [
      "CPU times: user 5.3 s, sys: 961 ms, total: 6.26 s\n",
      "Wall time: 3.65 s\n"
     ]
    }
   ],
   "source": [
    "%time df = spark.createDataFrame(pa.csv.read_csv('../sample_data/sliced.csv').to_pandas())"
   ]
  },
  {
   "cell_type": "code",
   "execution_count": 6,
   "id": "b4ab11ab-f900-4af5-8431-1d0666ec7d7b",
   "metadata": {},
   "outputs": [
    {
     "name": "stdout",
     "output_type": "stream",
     "text": [
      "root\n",
      " |-- VendorID: long (nullable = true)\n",
      " |-- tpep_pickup_datetime: timestamp (nullable = true)\n",
      " |-- tpep_dropoff_datetime: timestamp (nullable = true)\n",
      " |-- passenger_count: long (nullable = true)\n",
      " |-- trip_distance: double (nullable = true)\n",
      " |-- pickup_longitude: double (nullable = true)\n",
      " |-- pickup_latitude: double (nullable = true)\n",
      " |-- RateCodeID: long (nullable = true)\n",
      " |-- store_and_fwd_flag: string (nullable = true)\n",
      " |-- dropoff_longitude: double (nullable = true)\n",
      " |-- dropoff_latitude: double (nullable = true)\n",
      " |-- payment_type: long (nullable = true)\n",
      " |-- fare_amount: double (nullable = true)\n",
      " |-- extra: double (nullable = true)\n",
      " |-- mta_tax: double (nullable = true)\n",
      " |-- tip_amount: double (nullable = true)\n",
      " |-- tolls_amount: double (nullable = true)\n",
      " |-- improvement_surcharge: double (nullable = true)\n",
      " |-- total_amount: double (nullable = true)\n",
      "\n"
     ]
    }
   ],
   "source": [
    "df.printSchema()"
   ]
  },
  {
   "cell_type": "code",
   "execution_count": 7,
   "id": "dd88e16d-58dd-4b97-8bcc-f586d38054c7",
   "metadata": {},
   "outputs": [
    {
     "name": "stderr",
     "output_type": "stream",
     "text": [
      "[Stage 3:===================================================>       (7 + 1) / 8]\r"
     ]
    },
    {
     "name": "stdout",
     "output_type": "stream",
     "text": [
      "+-------+-------------------+------------------+-----------------+-------------------+-----------------+------------------+------------------+------------------+------------------+------------------+------------------+------------------+--------------------+------------------+------------------+---------------------+------------------+\n",
      "|summary|           VendorID|   passenger_count|    trip_distance|   pickup_longitude|  pickup_latitude|        RateCodeID|store_and_fwd_flag| dropoff_longitude|  dropoff_latitude|      payment_type|       fare_amount|             extra|             mta_tax|        tip_amount|      tolls_amount|improvement_surcharge|      total_amount|\n",
      "+-------+-------------------+------------------+-----------------+-------------------+-----------------+------------------+------------------+------------------+------------------+------------------+------------------+------------------+--------------------+------------------+------------------+---------------------+------------------+\n",
      "|  count|            3500000|           3500000|          3500000|            3500000|          3500000|           3500000|           3500000|           3500000|           3500000|           3500000|           3500000|           3500000|             3500000|           3500000|           3500000|              3500000|           3500000|\n",
      "|   mean| 1.5217765714285714|1.6799725714285714|9.500517528571242| -72.56244918053324|39.97311099664777|1.0362614285714287|              null|-72.61032741189325|40.000350487871735|          1.386906|11.903319425714857| 0.309187542857143|  0.4978167142857143|1.5450083457153747|0.2432987999994847|  0.28357997144523417|14.797866222476372|\n",
      "| stddev|0.49952562720035687|1.3367246050594372|7662.405809109092| 10.123240228129788|5.576616747636894|0.6366374357513295|              null| 9.959153534400686| 5.482752767078809|0.4988244363070999|10.357521895780561|0.3663168595959914|0.035232159268484116|2.3929551274396434|1.5534893068411322|   0.0682377649365785|12.550574389061929|\n",
      "|    min|                  1|                 0|              0.0|-121.92581176757812|              0.0|                 1|                 N| -736.183349609375|-9.029156684875488|                 1|            -450.0|              -2.0|                -0.5|             -81.0|            -11.75|                  0.0|            -450.3|\n",
      "|    max|                  2|                 9|     1.18000017E7|  78.66265106201172|  53.152587890625|                99|                 Y|  85.2740249633789|57.470916748046875|                 4|            3005.5|             100.0|                 0.5|             750.0|           1000.66|                  0.3|           3006.35|\n",
      "+-------+-------------------+------------------+-----------------+-------------------+-----------------+------------------+------------------+------------------+------------------+------------------+------------------+------------------+--------------------+------------------+------------------+---------------------+------------------+\n",
      "\n",
      "CPU times: user 9.8 ms, sys: 5.42 ms, total: 15.2 ms\n",
      "Wall time: 38.5 s\n"
     ]
    },
    {
     "name": "stderr",
     "output_type": "stream",
     "text": [
      "                                                                                \r"
     ]
    }
   ],
   "source": [
    "%%time\n",
    "df = spark.read.format('parquet').load('../sample_data/sliced.parquet') # using pyspark native reader\n",
    "df.describe().show()"
   ]
  },
  {
   "cell_type": "code",
   "execution_count": 8,
   "id": "20f69096-7da6-4941-8cd0-d142966fcd01",
   "metadata": {},
   "outputs": [
    {
     "name": "stderr",
     "output_type": "stream",
     "text": [
      "/Users/septem9907/Documents/GitHub/In-Memory-Analytics-with-Apache-Arrow-/arrow_playground/lib/python3.9/site-packages/pyspark/sql/pandas/conversion.py:604: FutureWarning: iteritems is deprecated and will be removed in a future version. Use .items instead.\n",
      "  [(c, t) for (_, c), t in zip(pdf_slice.iteritems(), arrow_types)]\n"
     ]
    },
    {
     "name": "stdout",
     "output_type": "stream",
     "text": [
      "22/10/29 22:03:48 WARN TaskSetManager: Stage 6 contains a task of very large size (63665 KiB). The maximum recommended task size is 1000 KiB.\n"
     ]
    },
    {
     "name": "stderr",
     "output_type": "stream",
     "text": [
      "[Stage 6:>                                                          (0 + 8) / 8]\r"
     ]
    },
    {
     "name": "stdout",
     "output_type": "stream",
     "text": [
      "+-------+------------------+------------------+-----------------+-------------------+-----------------+------------------+------------------+------------------+------------------+------------------+------------------+-------------------+-------------------+------------------+------------------+---------------------+------------------+\n",
      "|summary|          VendorID|   passenger_count|    trip_distance|   pickup_longitude|  pickup_latitude|        RateCodeID|store_and_fwd_flag| dropoff_longitude|  dropoff_latitude|      payment_type|       fare_amount|              extra|            mta_tax|        tip_amount|      tolls_amount|improvement_surcharge|      total_amount|\n",
      "+-------+------------------+------------------+-----------------+-------------------+-----------------+------------------+------------------+------------------+------------------+------------------+------------------+-------------------+-------------------+------------------+------------------+---------------------+------------------+\n",
      "|  count|           3500000|           3500000|          3500000|            3500000|          3500000|           3500000|           3500000|           3500000|           3500000|           3500000|           3500000|            3500000|            3500000|           3500000|           3500000|              3500000|           3500000|\n",
      "|   mean|1.5217765714285714|1.6799725714285714|9.500517528571292| -72.56244918053324|39.97311099664777|1.0362614285714287|              null|-72.61032741189325|40.000350487871735|          1.386906|11.903319425714606|0.30918754285714284| 0.4978167142857143|1.5450083457141393|0.2432988000000594|  0.28357997143046765|14.797866222787249|\n",
      "| stddev|0.4995256272003662| 1.336724605059433|7662.405809109181| 10.123240228129898|5.576616747636722|0.6366374357513259|              null| 9.959153534400526| 5.482752767078761|0.4988244363070959| 10.35752189578046|0.36631685959597965|0.03523215926848382| 2.392955127439738|  1.55348930684112|   0.0682377649365798|12.550574389061703|\n",
      "|    min|                 1|                 0|              0.0|-121.92581176757812|              0.0|                 1|                 N| -736.183349609375|-9.029156684875488|                 1|            -450.0|               -2.0|               -0.5|             -81.0|            -11.75|                  0.0|            -450.3|\n",
      "|    max|                 2|                 9|     1.18000017E7|  78.66265106201172|  53.152587890625|                99|                 Y|  85.2740249633789|57.470916748046875|                 4|            3005.5|              100.0|                0.5|             750.0|           1000.66|                  0.3|           3006.35|\n",
      "+-------+------------------+------------------+-----------------+-------------------+-----------------+------------------+------------------+------------------+------------------+------------------+------------------+-------------------+-------------------+------------------+------------------+---------------------+------------------+\n",
      "\n",
      "CPU times: user 3.14 s, sys: 1.11 s, total: 4.25 s\n",
      "Wall time: 13.3 s\n"
     ]
    },
    {
     "name": "stderr",
     "output_type": "stream",
     "text": [
      "                                                                                \r"
     ]
    }
   ],
   "source": [
    "%%time\n",
    "df = spark.createDataFrame(pq.read_table('../sample_data/sliced.parquet').to_pandas()) # using pyarrow\n",
    "df.describe().show()"
   ]
  },
  {
   "cell_type": "code",
   "execution_count": 9,
   "id": "2101bf94-4310-4fd9-b21b-3523e05ef32d",
   "metadata": {},
   "outputs": [
    {
     "name": "stderr",
     "output_type": "stream",
     "text": [
      "[Stage 24:>                                                         (0 + 8) / 8]\r"
     ]
    },
    {
     "name": "stdout",
     "output_type": "stream",
     "text": [
      "2.13 s ± 37.7 ms per loop (mean ± std. dev. of 7 runs, 1 loop each)\n"
     ]
    },
    {
     "name": "stderr",
     "output_type": "stream",
     "text": [
      "                                                                                \r"
     ]
    }
   ],
   "source": [
    "%%timeit \n",
    "df = spark.read.format('csv').load(\n",
    "    '../sample_data/sliced.csv', \n",
    "    inferSchema='true', \n",
    "    header='true').select('VendorID', \n",
    "                          'tpep_pickup_datetime', \n",
    "                          'passenger_count', \n",
    "                          'tip_amount', \n",
    "                          'fare_amount', \n",
    "                          'total_amount')"
   ]
  },
  {
   "cell_type": "code",
   "execution_count": 11,
   "id": "270dac3c-93e4-404a-a8b7-04192b8baf51",
   "metadata": {},
   "outputs": [
    {
     "name": "stderr",
     "output_type": "stream",
     "text": [
      "/Users/septem9907/Documents/GitHub/In-Memory-Analytics-with-Apache-Arrow-/arrow_playground/lib/python3.9/site-packages/pyspark/sql/pandas/conversion.py:604: FutureWarning: iteritems is deprecated and will be removed in a future version. Use .items instead.\n",
      "  [(c, t) for (_, c), t in zip(pdf_slice.iteritems(), arrow_types)]\n",
      "/Users/septem9907/Documents/GitHub/In-Memory-Analytics-with-Apache-Arrow-/arrow_playground/lib/python3.9/site-packages/pyspark/sql/pandas/conversion.py:604: FutureWarning: iteritems is deprecated and will be removed in a future version. Use .items instead.\n",
      "  [(c, t) for (_, c), t in zip(pdf_slice.iteritems(), arrow_types)]\n",
      "/Users/septem9907/Documents/GitHub/In-Memory-Analytics-with-Apache-Arrow-/arrow_playground/lib/python3.9/site-packages/pyspark/sql/pandas/conversion.py:604: FutureWarning: iteritems is deprecated and will be removed in a future version. Use .items instead.\n",
      "  [(c, t) for (_, c), t in zip(pdf_slice.iteritems(), arrow_types)]\n",
      "/Users/septem9907/Documents/GitHub/In-Memory-Analytics-with-Apache-Arrow-/arrow_playground/lib/python3.9/site-packages/pyspark/sql/pandas/conversion.py:604: FutureWarning: iteritems is deprecated and will be removed in a future version. Use .items instead.\n",
      "  [(c, t) for (_, c), t in zip(pdf_slice.iteritems(), arrow_types)]\n",
      "/Users/septem9907/Documents/GitHub/In-Memory-Analytics-with-Apache-Arrow-/arrow_playground/lib/python3.9/site-packages/pyspark/sql/pandas/conversion.py:604: FutureWarning: iteritems is deprecated and will be removed in a future version. Use .items instead.\n",
      "  [(c, t) for (_, c), t in zip(pdf_slice.iteritems(), arrow_types)]\n",
      "/Users/septem9907/Documents/GitHub/In-Memory-Analytics-with-Apache-Arrow-/arrow_playground/lib/python3.9/site-packages/pyspark/sql/pandas/conversion.py:604: FutureWarning: iteritems is deprecated and will be removed in a future version. Use .items instead.\n",
      "  [(c, t) for (_, c), t in zip(pdf_slice.iteritems(), arrow_types)]\n",
      "/Users/septem9907/Documents/GitHub/In-Memory-Analytics-with-Apache-Arrow-/arrow_playground/lib/python3.9/site-packages/pyspark/sql/pandas/conversion.py:604: FutureWarning: iteritems is deprecated and will be removed in a future version. Use .items instead.\n",
      "  [(c, t) for (_, c), t in zip(pdf_slice.iteritems(), arrow_types)]\n",
      "/Users/septem9907/Documents/GitHub/In-Memory-Analytics-with-Apache-Arrow-/arrow_playground/lib/python3.9/site-packages/pyspark/sql/pandas/conversion.py:604: FutureWarning: iteritems is deprecated and will be removed in a future version. Use .items instead.\n",
      "  [(c, t) for (_, c), t in zip(pdf_slice.iteritems(), arrow_types)]\n"
     ]
    },
    {
     "name": "stdout",
     "output_type": "stream",
     "text": [
      "1.45 s ± 18 ms per loop (mean ± std. dev. of 7 runs, 1 loop each)\n"
     ]
    }
   ],
   "source": [
    "%%timeit\n",
    "df = spark.createDataFrame(pa.csv.read_csv('../sample_data/sliced.csv',\n",
    "               convert_options=pa.csv.ConvertOptions(\n",
    "                include_columns=['VendorID', 'tpep_pickup_datetime',\n",
    "                                 'passenger_count', 'tip_amount',\n",
    "                                 'fare_amount', 'total_amount'])\n",
    "               ).to_pandas())"
   ]
  },
  {
   "cell_type": "code",
   "execution_count": 12,
   "id": "ef18694f-020d-45c2-bb8c-418d99950ddb",
   "metadata": {},
   "outputs": [],
   "source": [
    "import pandas as pd\n",
    "from pyspark.sql.functions import * \n",
    "# import the functions we want to use like 'month', 'to_timestamp'\n",
    "# and 'col'. Very useful.\n",
    "\n",
    "df = df.withColumn('tpep_pickup_datetime',\n",
    "                   to_timestamp(col('tpep_pickup_datetime'), \n",
    "                  'yyyy-MM-dd HH:mm:ss')) # the datetime format\n",
    "df = df.withColumn('pickup_month', \n",
    "                   month(col('tpep_pickup_datetime')))\n"
   ]
  },
  {
   "cell_type": "code",
   "execution_count": 13,
   "id": "81101df1-0f95-4138-b9aa-5bca1b7e8757",
   "metadata": {},
   "outputs": [
    {
     "name": "stdout",
     "output_type": "stream",
     "text": [
      "22/10/29 22:12:06 WARN TaskSetManager: Stage 25 contains a task of very large size (20512 KiB). The maximum recommended task size is 1000 KiB.\n"
     ]
    },
    {
     "name": "stderr",
     "output_type": "stream",
     "text": [
      "[Stage 27:>                                                         (0 + 1) / 1]\r"
     ]
    },
    {
     "name": "stdout",
     "output_type": "stream",
     "text": [
      "+--------+------------+--------------------+---------------+----------+-----------+------------+--------------------+\n",
      "|VendorID|pickup_month|tpep_pickup_datetime|passenger_count|tip_amount|fare_amount|total_amount|                  v3|\n",
      "+--------+------------+--------------------+---------------+----------+-----------+------------+--------------------+\n",
      "|       1|           1| 2015-01-10 20:33:38|              1|       2.0|       14.5|        17.8| 0.18341020244437142|\n",
      "|       1|           1| 2015-01-10 20:33:38|              1|       0.0|        9.5|        10.8| -0.6349579704232777|\n",
      "|       1|           1| 2015-01-10 20:33:39|              1|       0.0|        3.5|         4.8| -0.6349579704232777|\n",
      "|       1|           1| 2015-01-10 20:33:39|              1|       0.0|       15.0|        16.3| -0.6349579704232777|\n",
      "|       1|           1| 2015-01-10 20:33:39|              1|       6.7|       27.0|       40.33|   2.106575408683347|\n",
      "|       1|           1| 2015-01-10 20:33:39|              1|       0.0|       14.0|        15.3| -0.6349579704232777|\n",
      "|       1|           1| 2015-01-10 20:33:39|              3|      1.66|        7.0|        9.96|0.044287613056871046|\n",
      "|       1|           1| 2015-01-10 20:33:39|              3|       0.0|       52.0|       58.13| -0.6349579704232777|\n",
      "|       1|           1| 2015-01-10 20:33:40|              2|      1.55|        6.5|        9.35|-7.22636450849606...|\n",
      "|       1|           1| 2015-01-10 20:33:40|              1|      1.66|        7.0|        9.96|0.044287613056871046|\n",
      "|       1|           1| 2015-01-10 20:33:41|              1|       1.0|        7.5|         9.8|-0.22577388398945314|\n",
      "|       1|           1| 2015-01-10 20:33:41|              1|       0.0|        3.0|         4.3| -0.6349579704232777|\n",
      "|       1|           1| 2015-01-10 20:33:41|              1|       3.0|       19.0|        23.3|   0.592594288878196|\n",
      "|       1|           1| 2015-01-10 20:33:41|              1|       0.0|        6.0|         7.3| -0.6349579704232777|\n",
      "|       1|           1| 2015-01-10 19:12:21|              1|       0.0|       13.5|        14.3| -0.6349579704232777|\n",
      "|       1|           1| 2015-01-10 19:12:21|              1|      10.0|       52.0|        62.8|   3.456882893914968|\n",
      "|       1|           1| 2015-01-04 13:44:52|              1|      2.35|       11.0|       14.15| 0.32662463269621006|\n",
      "|       1|           1| 2015-01-04 13:44:53|              2|       0.0|        5.0|         5.8| -0.6349579704232777|\n",
      "|       1|           1| 2015-01-04 13:44:53|              3|       0.0|        7.5|         8.3| -0.6349579704232777|\n",
      "|       1|           1| 2015-01-04 13:44:54|              1|      1.75|        8.0|       10.55| 0.08111418083591529|\n",
      "+--------+------------+--------------------+---------------+----------+-----------+------------+--------------------+\n",
      "only showing top 20 rows\n",
      "\n",
      "CPU times: user 33.1 ms, sys: 29.7 ms, total: 62.8 ms\n",
      "Wall time: 4min 27s\n"
     ]
    },
    {
     "name": "stderr",
     "output_type": "stream",
     "text": [
      "                                                                                \r"
     ]
    }
   ],
   "source": [
    "%%time\n",
    "\n",
    "from pyspark.sql.types import * \n",
    "\n",
    "group_columns = ['VendorID', 'pickup_month']\n",
    "non_group_cols = [col for col in df.columns if col not in group_columns]\n",
    "s = StructType([f for f in df.schema.fields if f.name in non_group_cols])\n",
    "cols = list([col(name) for name in non_group_cols])\n",
    "\n",
    "df_norm = df.withColumn('values', struct(*cols))\n",
    "df_norm = (df_norm.groupBy(*group_columns).agg(collect_list(df_norm.values).alias('values')))\n",
    "\n",
    "s2 = StructType(s.fields + [StructField('v3', DoubleType())])\n",
    "\n",
    "@udf(ArrayType(s2))\n",
    "def normalize(values):\n",
    "    v1 = pd.Series([r.tip_amount for r in values])\n",
    "    v1_norm = (v1 - v1.mean())/v1.std()\n",
    "    return [values[i] + (float(v1_norm[i]),) for i in range(0, len(values))]\n",
    "\n",
    "df_norm = (df_norm.withColumn('new_values', normalize(df_norm.values)).drop('values').withColumn('new_values', explode(col('new_values'))))\n",
    "\n",
    "for c in [f.name for f in s2.fields]:\n",
    "    df_norm = df_norm.withColumn(c, col('new_values.{0}'.format(c)))\n",
    "    \n",
    "df_norm = df_norm.drop('new_values')\n",
    "df_norm.show()\n"
   ]
  },
  {
   "cell_type": "code",
   "execution_count": 14,
   "id": "34ee894f-8b09-4c4c-a04f-5be024b8c9fa",
   "metadata": {},
   "outputs": [
    {
     "name": "stdout",
     "output_type": "stream",
     "text": [
      "22/10/29 22:20:17 WARN TaskSetManager: Stage 28 contains a task of very large size (20512 KiB). The maximum recommended task size is 1000 KiB.\n"
     ]
    },
    {
     "name": "stderr",
     "output_type": "stream",
     "text": [
      "[Stage 30:>                                                         (0 + 1) / 1]\r"
     ]
    },
    {
     "name": "stdout",
     "output_type": "stream",
     "text": [
      "+--------+--------------------+---------------+----------+-----------+------------+------------+--------------------+\n",
      "|VendorID|tpep_pickup_datetime|passenger_count|tip_amount|fare_amount|total_amount|pickup_month|                  v3|\n",
      "+--------+--------------------+---------------+----------+-----------+------------+------------+--------------------+\n",
      "|       1| 2015-01-10 20:33:38|              1|       2.0|       14.5|        17.8|           1| 0.18341020244437142|\n",
      "|       1| 2015-01-10 20:33:38|              1|       0.0|        9.5|        10.8|           1| -0.6349579704232777|\n",
      "|       1| 2015-01-10 20:33:39|              1|       0.0|        3.5|         4.8|           1| -0.6349579704232777|\n",
      "|       1| 2015-01-10 20:33:39|              1|       0.0|       15.0|        16.3|           1| -0.6349579704232777|\n",
      "|       1| 2015-01-10 20:33:39|              1|       6.7|       27.0|       40.33|           1|   2.106575408683347|\n",
      "|       1| 2015-01-10 20:33:39|              1|       0.0|       14.0|        15.3|           1| -0.6349579704232777|\n",
      "|       1| 2015-01-10 20:33:39|              3|      1.66|        7.0|        9.96|           1|0.044287613056871046|\n",
      "|       1| 2015-01-10 20:33:39|              3|       0.0|       52.0|       58.13|           1| -0.6349579704232777|\n",
      "|       1| 2015-01-10 20:33:40|              2|      1.55|        6.5|        9.35|           1|-7.22636450849606...|\n",
      "|       1| 2015-01-10 20:33:40|              1|      1.66|        7.0|        9.96|           1|0.044287613056871046|\n",
      "|       1| 2015-01-10 20:33:41|              1|       1.0|        7.5|         9.8|           1|-0.22577388398945314|\n",
      "|       1| 2015-01-10 20:33:41|              1|       0.0|        3.0|         4.3|           1| -0.6349579704232777|\n",
      "|       1| 2015-01-10 20:33:41|              1|       3.0|       19.0|        23.3|           1|   0.592594288878196|\n",
      "|       1| 2015-01-10 20:33:41|              1|       0.0|        6.0|         7.3|           1| -0.6349579704232777|\n",
      "|       1| 2015-01-10 19:12:21|              1|       0.0|       13.5|        14.3|           1| -0.6349579704232777|\n",
      "|       1| 2015-01-10 19:12:21|              1|      10.0|       52.0|        62.8|           1|   3.456882893914968|\n",
      "|       1| 2015-01-04 13:44:52|              1|      2.35|       11.0|       14.15|           1| 0.32662463269621006|\n",
      "|       1| 2015-01-04 13:44:53|              2|       0.0|        5.0|         5.8|           1| -0.6349579704232777|\n",
      "|       1| 2015-01-04 13:44:53|              3|       0.0|        7.5|         8.3|           1| -0.6349579704232777|\n",
      "|       1| 2015-01-04 13:44:54|              1|      1.75|        8.0|       10.55|           1| 0.08111418083591529|\n",
      "+--------+--------------------+---------------+----------+-----------+------------+------------+--------------------+\n",
      "only showing top 20 rows\n",
      "\n",
      "CPU times: user 11.9 ms, sys: 7.52 ms, total: 19.4 ms\n",
      "Wall time: 2.72 s\n"
     ]
    },
    {
     "name": "stderr",
     "output_type": "stream",
     "text": [
      "                                                                                \r"
     ]
    }
   ],
   "source": [
    "%%time\n",
    "\n",
    "schema = StructType(df.schema.fields + [StructField('v3', DoubleType())])\n",
    "\n",
    "def vector_normalize(values):\n",
    "    v1 = values.tip_amount\n",
    "    values['v3'] = (v1 - v1.mean())/v1.std()\n",
    "    return values\n",
    "    \n",
    "group_columns = ['VendorID', 'pickup_month']\n",
    "df_pandas_norm = df.groupby(*group_columns).applyInPandas(vector_normalize, schema=schema)\n",
    "df_pandas_norm.show()\n"
   ]
  },
  {
   "cell_type": "markdown",
   "id": "c561e327-6d28-4e12-8e81-8b73b7c49682",
   "metadata": {},
   "source": [
    "## IMPORTANT\n",
    "\n",
    "Run the next cell before loading the `perspective.ipynb` notebook. You may need to refresh this window after the cell runs before the perspective widget will load.\n",
    "\n",
    "You also might need to click the puzzle piece on the sidebar and make sure you click the `Enable` button to enable third-party jupyter extensions in order to see the widgets."
   ]
  },
  {
   "cell_type": "code",
   "execution_count": 16,
   "id": "905c39ab-1d7e-403a-a2eb-c0701e14d0d5",
   "metadata": {
    "tags": []
   },
   "outputs": [
    {
     "name": "stdout",
     "output_type": "stream",
     "text": [
      "Requirement already satisfied: ipywidgets in /Users/septem9907/Documents/GitHub/In-Memory-Analytics-with-Apache-Arrow-/arrow_playground/lib/python3.9/site-packages (7.7.2)\n",
      "Requirement already satisfied: jupyterlab-widgets<3,>=1.0.0 in /Users/septem9907/Documents/GitHub/In-Memory-Analytics-with-Apache-Arrow-/arrow_playground/lib/python3.9/site-packages (from ipywidgets) (1.1.1)\n",
      "Requirement already satisfied: widgetsnbextension~=3.6.0 in /Users/septem9907/Documents/GitHub/In-Memory-Analytics-with-Apache-Arrow-/arrow_playground/lib/python3.9/site-packages (from ipywidgets) (3.6.1)\n",
      "Requirement already satisfied: traitlets>=4.3.1 in /Users/septem9907/Documents/GitHub/In-Memory-Analytics-with-Apache-Arrow-/arrow_playground/lib/python3.9/site-packages (from ipywidgets) (5.5.0)\n",
      "Requirement already satisfied: ipython-genutils~=0.2.0 in /Users/septem9907/Documents/GitHub/In-Memory-Analytics-with-Apache-Arrow-/arrow_playground/lib/python3.9/site-packages (from ipywidgets) (0.2.0)\n",
      "Requirement already satisfied: ipython>=4.0.0 in /Users/septem9907/Documents/GitHub/In-Memory-Analytics-with-Apache-Arrow-/arrow_playground/lib/python3.9/site-packages (from ipywidgets) (8.5.0)\n",
      "Requirement already satisfied: ipykernel>=4.5.1 in /Users/septem9907/Documents/GitHub/In-Memory-Analytics-with-Apache-Arrow-/arrow_playground/lib/python3.9/site-packages (from ipywidgets) (6.16.2)\n",
      "Requirement already satisfied: packaging in /Users/septem9907/Documents/GitHub/In-Memory-Analytics-with-Apache-Arrow-/arrow_playground/lib/python3.9/site-packages (from ipykernel>=4.5.1->ipywidgets) (21.3)\n",
      "Requirement already satisfied: tornado>=6.1 in /Users/septem9907/Documents/GitHub/In-Memory-Analytics-with-Apache-Arrow-/arrow_playground/lib/python3.9/site-packages (from ipykernel>=4.5.1->ipywidgets) (6.2)\n",
      "Requirement already satisfied: appnope in /Users/septem9907/Documents/GitHub/In-Memory-Analytics-with-Apache-Arrow-/arrow_playground/lib/python3.9/site-packages (from ipykernel>=4.5.1->ipywidgets) (0.1.3)\n",
      "Requirement already satisfied: jupyter-client>=6.1.12 in /Users/septem9907/Documents/GitHub/In-Memory-Analytics-with-Apache-Arrow-/arrow_playground/lib/python3.9/site-packages (from ipykernel>=4.5.1->ipywidgets) (7.4.4)\n",
      "Requirement already satisfied: nest-asyncio in /Users/septem9907/Documents/GitHub/In-Memory-Analytics-with-Apache-Arrow-/arrow_playground/lib/python3.9/site-packages (from ipykernel>=4.5.1->ipywidgets) (1.5.6)\n",
      "Requirement already satisfied: debugpy>=1.0 in /Users/septem9907/Documents/GitHub/In-Memory-Analytics-with-Apache-Arrow-/arrow_playground/lib/python3.9/site-packages (from ipykernel>=4.5.1->ipywidgets) (1.6.3)\n",
      "Requirement already satisfied: matplotlib-inline>=0.1 in /Users/septem9907/Documents/GitHub/In-Memory-Analytics-with-Apache-Arrow-/arrow_playground/lib/python3.9/site-packages (from ipykernel>=4.5.1->ipywidgets) (0.1.6)\n",
      "Requirement already satisfied: psutil in /Users/septem9907/Documents/GitHub/In-Memory-Analytics-with-Apache-Arrow-/arrow_playground/lib/python3.9/site-packages (from ipykernel>=4.5.1->ipywidgets) (5.9.3)\n",
      "Requirement already satisfied: pyzmq>=17 in /Users/septem9907/Documents/GitHub/In-Memory-Analytics-with-Apache-Arrow-/arrow_playground/lib/python3.9/site-packages (from ipykernel>=4.5.1->ipywidgets) (24.0.1)\n",
      "Requirement already satisfied: pickleshare in /Users/septem9907/Documents/GitHub/In-Memory-Analytics-with-Apache-Arrow-/arrow_playground/lib/python3.9/site-packages (from ipython>=4.0.0->ipywidgets) (0.7.5)\n",
      "Requirement already satisfied: jedi>=0.16 in /Users/septem9907/Documents/GitHub/In-Memory-Analytics-with-Apache-Arrow-/arrow_playground/lib/python3.9/site-packages (from ipython>=4.0.0->ipywidgets) (0.18.1)\n",
      "Requirement already satisfied: pygments>=2.4.0 in /Users/septem9907/Documents/GitHub/In-Memory-Analytics-with-Apache-Arrow-/arrow_playground/lib/python3.9/site-packages (from ipython>=4.0.0->ipywidgets) (2.13.0)\n",
      "Requirement already satisfied: decorator in /Users/septem9907/Documents/GitHub/In-Memory-Analytics-with-Apache-Arrow-/arrow_playground/lib/python3.9/site-packages (from ipython>=4.0.0->ipywidgets) (5.1.1)\n",
      "Requirement already satisfied: stack-data in /Users/septem9907/Documents/GitHub/In-Memory-Analytics-with-Apache-Arrow-/arrow_playground/lib/python3.9/site-packages (from ipython>=4.0.0->ipywidgets) (0.5.1)\n",
      "Requirement already satisfied: backcall in /Users/septem9907/Documents/GitHub/In-Memory-Analytics-with-Apache-Arrow-/arrow_playground/lib/python3.9/site-packages (from ipython>=4.0.0->ipywidgets) (0.2.0)\n",
      "Requirement already satisfied: pexpect>4.3 in /Users/septem9907/Documents/GitHub/In-Memory-Analytics-with-Apache-Arrow-/arrow_playground/lib/python3.9/site-packages (from ipython>=4.0.0->ipywidgets) (4.8.0)\n",
      "Requirement already satisfied: prompt-toolkit<3.1.0,>3.0.1 in /Users/septem9907/Documents/GitHub/In-Memory-Analytics-with-Apache-Arrow-/arrow_playground/lib/python3.9/site-packages (from ipython>=4.0.0->ipywidgets) (3.0.31)\n",
      "Requirement already satisfied: notebook>=4.4.1 in /Users/septem9907/Documents/GitHub/In-Memory-Analytics-with-Apache-Arrow-/arrow_playground/lib/python3.9/site-packages (from widgetsnbextension~=3.6.0->ipywidgets) (6.5.1)\n",
      "Requirement already satisfied: parso<0.9.0,>=0.8.0 in /Users/septem9907/Documents/GitHub/In-Memory-Analytics-with-Apache-Arrow-/arrow_playground/lib/python3.9/site-packages (from jedi>=0.16->ipython>=4.0.0->ipywidgets) (0.8.3)\n",
      "Requirement already satisfied: python-dateutil>=2.8.2 in /Users/septem9907/Documents/GitHub/In-Memory-Analytics-with-Apache-Arrow-/arrow_playground/lib/python3.9/site-packages (from jupyter-client>=6.1.12->ipykernel>=4.5.1->ipywidgets) (2.8.2)\n",
      "Requirement already satisfied: jupyter-core>=4.9.2 in /Users/septem9907/Documents/GitHub/In-Memory-Analytics-with-Apache-Arrow-/arrow_playground/lib/python3.9/site-packages (from jupyter-client>=6.1.12->ipykernel>=4.5.1->ipywidgets) (4.11.2)\n",
      "Requirement already satisfied: entrypoints in /Users/septem9907/Documents/GitHub/In-Memory-Analytics-with-Apache-Arrow-/arrow_playground/lib/python3.9/site-packages (from jupyter-client>=6.1.12->ipykernel>=4.5.1->ipywidgets) (0.4)\n",
      "Requirement already satisfied: Send2Trash>=1.8.0 in /Users/septem9907/Documents/GitHub/In-Memory-Analytics-with-Apache-Arrow-/arrow_playground/lib/python3.9/site-packages (from notebook>=4.4.1->widgetsnbextension~=3.6.0->ipywidgets) (1.8.0)\n",
      "Requirement already satisfied: nbclassic==0.4.5 in /Users/septem9907/Documents/GitHub/In-Memory-Analytics-with-Apache-Arrow-/arrow_playground/lib/python3.9/site-packages (from notebook>=4.4.1->widgetsnbextension~=3.6.0->ipywidgets) (0.4.5)\n",
      "Requirement already satisfied: argon2-cffi in /Users/septem9907/Documents/GitHub/In-Memory-Analytics-with-Apache-Arrow-/arrow_playground/lib/python3.9/site-packages (from notebook>=4.4.1->widgetsnbextension~=3.6.0->ipywidgets) (21.3.0)\n",
      "Requirement already satisfied: nbformat in /Users/septem9907/Documents/GitHub/In-Memory-Analytics-with-Apache-Arrow-/arrow_playground/lib/python3.9/site-packages (from notebook>=4.4.1->widgetsnbextension~=3.6.0->ipywidgets) (5.7.0)\n",
      "Requirement already satisfied: nbconvert>=5 in /Users/septem9907/Documents/GitHub/In-Memory-Analytics-with-Apache-Arrow-/arrow_playground/lib/python3.9/site-packages (from notebook>=4.4.1->widgetsnbextension~=3.6.0->ipywidgets) (7.2.2)\n",
      "Requirement already satisfied: terminado>=0.8.3 in /Users/septem9907/Documents/GitHub/In-Memory-Analytics-with-Apache-Arrow-/arrow_playground/lib/python3.9/site-packages (from notebook>=4.4.1->widgetsnbextension~=3.6.0->ipywidgets) (0.17.0)\n",
      "Requirement already satisfied: jinja2 in /Users/septem9907/Documents/GitHub/In-Memory-Analytics-with-Apache-Arrow-/arrow_playground/lib/python3.9/site-packages (from notebook>=4.4.1->widgetsnbextension~=3.6.0->ipywidgets) (3.1.2)\n",
      "Requirement already satisfied: prometheus-client in /Users/septem9907/Documents/GitHub/In-Memory-Analytics-with-Apache-Arrow-/arrow_playground/lib/python3.9/site-packages (from notebook>=4.4.1->widgetsnbextension~=3.6.0->ipywidgets) (0.15.0)\n",
      "Requirement already satisfied: notebook-shim>=0.1.0 in /Users/septem9907/Documents/GitHub/In-Memory-Analytics-with-Apache-Arrow-/arrow_playground/lib/python3.9/site-packages (from nbclassic==0.4.5->notebook>=4.4.1->widgetsnbextension~=3.6.0->ipywidgets) (0.2.0)\n",
      "Requirement already satisfied: jupyter-server>=1.8 in /Users/septem9907/Documents/GitHub/In-Memory-Analytics-with-Apache-Arrow-/arrow_playground/lib/python3.9/site-packages (from nbclassic==0.4.5->notebook>=4.4.1->widgetsnbextension~=3.6.0->ipywidgets) (1.21.0)\n",
      "Requirement already satisfied: ptyprocess>=0.5 in /Users/septem9907/Documents/GitHub/In-Memory-Analytics-with-Apache-Arrow-/arrow_playground/lib/python3.9/site-packages (from pexpect>4.3->ipython>=4.0.0->ipywidgets) (0.7.0)\n",
      "Requirement already satisfied: wcwidth in /Users/septem9907/Documents/GitHub/In-Memory-Analytics-with-Apache-Arrow-/arrow_playground/lib/python3.9/site-packages (from prompt-toolkit<3.1.0,>3.0.1->ipython>=4.0.0->ipywidgets) (0.2.5)\n",
      "Requirement already satisfied: pyparsing!=3.0.5,>=2.0.2 in /Users/septem9907/Documents/GitHub/In-Memory-Analytics-with-Apache-Arrow-/arrow_playground/lib/python3.9/site-packages (from packaging->ipykernel>=4.5.1->ipywidgets) (3.0.9)\n",
      "Requirement already satisfied: asttokens in /Users/septem9907/Documents/GitHub/In-Memory-Analytics-with-Apache-Arrow-/arrow_playground/lib/python3.9/site-packages (from stack-data->ipython>=4.0.0->ipywidgets) (2.0.8)\n",
      "Requirement already satisfied: executing in /Users/septem9907/Documents/GitHub/In-Memory-Analytics-with-Apache-Arrow-/arrow_playground/lib/python3.9/site-packages (from stack-data->ipython>=4.0.0->ipywidgets) (1.1.1)\n",
      "Requirement already satisfied: pure-eval in /Users/septem9907/Documents/GitHub/In-Memory-Analytics-with-Apache-Arrow-/arrow_playground/lib/python3.9/site-packages (from stack-data->ipython>=4.0.0->ipywidgets) (0.2.2)\n",
      "Requirement already satisfied: tinycss2 in /Users/septem9907/Documents/GitHub/In-Memory-Analytics-with-Apache-Arrow-/arrow_playground/lib/python3.9/site-packages (from nbconvert>=5->notebook>=4.4.1->widgetsnbextension~=3.6.0->ipywidgets) (1.2.1)\n",
      "Requirement already satisfied: jupyterlab-pygments in /Users/septem9907/Documents/GitHub/In-Memory-Analytics-with-Apache-Arrow-/arrow_playground/lib/python3.9/site-packages (from nbconvert>=5->notebook>=4.4.1->widgetsnbextension~=3.6.0->ipywidgets) (0.2.2)\n",
      "Requirement already satisfied: bleach in /Users/septem9907/Documents/GitHub/In-Memory-Analytics-with-Apache-Arrow-/arrow_playground/lib/python3.9/site-packages (from nbconvert>=5->notebook>=4.4.1->widgetsnbextension~=3.6.0->ipywidgets) (5.0.1)\n",
      "Requirement already satisfied: pandocfilters>=1.4.1 in /Users/septem9907/Documents/GitHub/In-Memory-Analytics-with-Apache-Arrow-/arrow_playground/lib/python3.9/site-packages (from nbconvert>=5->notebook>=4.4.1->widgetsnbextension~=3.6.0->ipywidgets) (1.5.0)\n",
      "Requirement already satisfied: markupsafe>=2.0 in /Users/septem9907/Documents/GitHub/In-Memory-Analytics-with-Apache-Arrow-/arrow_playground/lib/python3.9/site-packages (from nbconvert>=5->notebook>=4.4.1->widgetsnbextension~=3.6.0->ipywidgets) (2.1.1)\n",
      "Requirement already satisfied: nbclient>=0.5.0 in /Users/septem9907/Documents/GitHub/In-Memory-Analytics-with-Apache-Arrow-/arrow_playground/lib/python3.9/site-packages (from nbconvert>=5->notebook>=4.4.1->widgetsnbextension~=3.6.0->ipywidgets) (0.7.0)\n",
      "Requirement already satisfied: importlib-metadata>=3.6 in /Users/septem9907/Documents/GitHub/In-Memory-Analytics-with-Apache-Arrow-/arrow_playground/lib/python3.9/site-packages (from nbconvert>=5->notebook>=4.4.1->widgetsnbextension~=3.6.0->ipywidgets) (5.0.0)\n",
      "Requirement already satisfied: defusedxml in /Users/septem9907/Documents/GitHub/In-Memory-Analytics-with-Apache-Arrow-/arrow_playground/lib/python3.9/site-packages (from nbconvert>=5->notebook>=4.4.1->widgetsnbextension~=3.6.0->ipywidgets) (0.7.1)\n",
      "Requirement already satisfied: mistune<3,>=2.0.3 in /Users/septem9907/Documents/GitHub/In-Memory-Analytics-with-Apache-Arrow-/arrow_playground/lib/python3.9/site-packages (from nbconvert>=5->notebook>=4.4.1->widgetsnbextension~=3.6.0->ipywidgets) (2.0.4)\n",
      "Requirement already satisfied: beautifulsoup4 in /Users/septem9907/Documents/GitHub/In-Memory-Analytics-with-Apache-Arrow-/arrow_playground/lib/python3.9/site-packages (from nbconvert>=5->notebook>=4.4.1->widgetsnbextension~=3.6.0->ipywidgets) (4.11.1)\n",
      "Requirement already satisfied: jsonschema>=2.6 in /Users/septem9907/Documents/GitHub/In-Memory-Analytics-with-Apache-Arrow-/arrow_playground/lib/python3.9/site-packages (from nbformat->notebook>=4.4.1->widgetsnbextension~=3.6.0->ipywidgets) (4.16.0)\n",
      "Requirement already satisfied: fastjsonschema in /Users/septem9907/Documents/GitHub/In-Memory-Analytics-with-Apache-Arrow-/arrow_playground/lib/python3.9/site-packages (from nbformat->notebook>=4.4.1->widgetsnbextension~=3.6.0->ipywidgets) (2.16.2)\n",
      "Requirement already satisfied: six>=1.5 in /Users/septem9907/Documents/GitHub/In-Memory-Analytics-with-Apache-Arrow-/arrow_playground/lib/python3.9/site-packages (from python-dateutil>=2.8.2->jupyter-client>=6.1.12->ipykernel>=4.5.1->ipywidgets) (1.16.0)\n",
      "Requirement already satisfied: argon2-cffi-bindings in /Users/septem9907/Documents/GitHub/In-Memory-Analytics-with-Apache-Arrow-/arrow_playground/lib/python3.9/site-packages (from argon2-cffi->notebook>=4.4.1->widgetsnbextension~=3.6.0->ipywidgets) (21.2.0)\n",
      "Requirement already satisfied: zipp>=0.5 in /Users/septem9907/Documents/GitHub/In-Memory-Analytics-with-Apache-Arrow-/arrow_playground/lib/python3.9/site-packages (from importlib-metadata>=3.6->nbconvert>=5->notebook>=4.4.1->widgetsnbextension~=3.6.0->ipywidgets) (3.10.0)\n",
      "Requirement already satisfied: pyrsistent!=0.17.0,!=0.17.1,!=0.17.2,>=0.14.0 in /Users/septem9907/Documents/GitHub/In-Memory-Analytics-with-Apache-Arrow-/arrow_playground/lib/python3.9/site-packages (from jsonschema>=2.6->nbformat->notebook>=4.4.1->widgetsnbextension~=3.6.0->ipywidgets) (0.18.1)\n",
      "Requirement already satisfied: attrs>=17.4.0 in /Users/septem9907/Documents/GitHub/In-Memory-Analytics-with-Apache-Arrow-/arrow_playground/lib/python3.9/site-packages (from jsonschema>=2.6->nbformat->notebook>=4.4.1->widgetsnbextension~=3.6.0->ipywidgets) (22.1.0)\n",
      "Requirement already satisfied: anyio<4,>=3.1.0 in /Users/septem9907/Documents/GitHub/In-Memory-Analytics-with-Apache-Arrow-/arrow_playground/lib/python3.9/site-packages (from jupyter-server>=1.8->nbclassic==0.4.5->notebook>=4.4.1->widgetsnbextension~=3.6.0->ipywidgets) (3.6.2)\n",
      "Requirement already satisfied: websocket-client in /Users/septem9907/Documents/GitHub/In-Memory-Analytics-with-Apache-Arrow-/arrow_playground/lib/python3.9/site-packages (from jupyter-server>=1.8->nbclassic==0.4.5->notebook>=4.4.1->widgetsnbextension~=3.6.0->ipywidgets) (1.4.1)\n",
      "Requirement already satisfied: cffi>=1.0.1 in /Users/septem9907/Documents/GitHub/In-Memory-Analytics-with-Apache-Arrow-/arrow_playground/lib/python3.9/site-packages (from argon2-cffi-bindings->argon2-cffi->notebook>=4.4.1->widgetsnbextension~=3.6.0->ipywidgets) (1.15.1)\n",
      "Requirement already satisfied: soupsieve>1.2 in /Users/septem9907/Documents/GitHub/In-Memory-Analytics-with-Apache-Arrow-/arrow_playground/lib/python3.9/site-packages (from beautifulsoup4->nbconvert>=5->notebook>=4.4.1->widgetsnbextension~=3.6.0->ipywidgets) (2.3.2.post1)\n",
      "Requirement already satisfied: webencodings in /Users/septem9907/Documents/GitHub/In-Memory-Analytics-with-Apache-Arrow-/arrow_playground/lib/python3.9/site-packages (from bleach->nbconvert>=5->notebook>=4.4.1->widgetsnbextension~=3.6.0->ipywidgets) (0.5.1)\n",
      "Requirement already satisfied: sniffio>=1.1 in /Users/septem9907/Documents/GitHub/In-Memory-Analytics-with-Apache-Arrow-/arrow_playground/lib/python3.9/site-packages (from anyio<4,>=3.1.0->jupyter-server>=1.8->nbclassic==0.4.5->notebook>=4.4.1->widgetsnbextension~=3.6.0->ipywidgets) (1.3.0)\n",
      "Requirement already satisfied: idna>=2.8 in /Users/septem9907/Documents/GitHub/In-Memory-Analytics-with-Apache-Arrow-/arrow_playground/lib/python3.9/site-packages (from anyio<4,>=3.1.0->jupyter-server>=1.8->nbclassic==0.4.5->notebook>=4.4.1->widgetsnbextension~=3.6.0->ipywidgets) (3.4)\n",
      "Requirement already satisfied: pycparser in /Users/septem9907/Documents/GitHub/In-Memory-Analytics-with-Apache-Arrow-/arrow_playground/lib/python3.9/site-packages (from cffi>=1.0.1->argon2-cffi-bindings->argon2-cffi->notebook>=4.4.1->widgetsnbextension~=3.6.0->ipywidgets) (2.21)\n",
      "Requirement already satisfied: perspective-python in /Users/septem9907/Documents/GitHub/In-Memory-Analytics-with-Apache-Arrow-/arrow_playground/lib/python3.9/site-packages (1.7.1)\n",
      "Requirement already satisfied: python-dateutil>=2.8.0 in /Users/septem9907/Documents/GitHub/In-Memory-Analytics-with-Apache-Arrow-/arrow_playground/lib/python3.9/site-packages (from perspective-python) (2.8.2)\n",
      "Requirement already satisfied: pandas>=0.22.0 in /Users/septem9907/Documents/GitHub/In-Memory-Analytics-with-Apache-Arrow-/arrow_playground/lib/python3.9/site-packages (from perspective-python) (1.5.1)\n",
      "Requirement already satisfied: future>=0.16.0 in /Users/septem9907/Documents/GitHub/In-Memory-Analytics-with-Apache-Arrow-/arrow_playground/lib/python3.9/site-packages (from perspective-python) (0.18.2)\n",
      "Requirement already satisfied: traitlets>=4.3.2 in /Users/septem9907/Documents/GitHub/In-Memory-Analytics-with-Apache-Arrow-/arrow_playground/lib/python3.9/site-packages (from perspective-python) (5.5.0)\n",
      "Requirement already satisfied: numpy>=1.13.1 in /Users/septem9907/Documents/GitHub/In-Memory-Analytics-with-Apache-Arrow-/arrow_playground/lib/python3.9/site-packages (from perspective-python) (1.22.2)\n",
      "Requirement already satisfied: ipywidgets<8,>=7.5.1 in /Users/septem9907/Documents/GitHub/In-Memory-Analytics-with-Apache-Arrow-/arrow_playground/lib/python3.9/site-packages (from perspective-python) (7.7.2)\n",
      "Requirement already satisfied: jupyterlab-widgets<3,>=1.0.0 in /Users/septem9907/Documents/GitHub/In-Memory-Analytics-with-Apache-Arrow-/arrow_playground/lib/python3.9/site-packages (from ipywidgets<8,>=7.5.1->perspective-python) (1.1.1)\n",
      "Requirement already satisfied: ipython-genutils~=0.2.0 in /Users/septem9907/Documents/GitHub/In-Memory-Analytics-with-Apache-Arrow-/arrow_playground/lib/python3.9/site-packages (from ipywidgets<8,>=7.5.1->perspective-python) (0.2.0)\n",
      "Requirement already satisfied: ipykernel>=4.5.1 in /Users/septem9907/Documents/GitHub/In-Memory-Analytics-with-Apache-Arrow-/arrow_playground/lib/python3.9/site-packages (from ipywidgets<8,>=7.5.1->perspective-python) (6.16.2)\n",
      "Requirement already satisfied: widgetsnbextension~=3.6.0 in /Users/septem9907/Documents/GitHub/In-Memory-Analytics-with-Apache-Arrow-/arrow_playground/lib/python3.9/site-packages (from ipywidgets<8,>=7.5.1->perspective-python) (3.6.1)\n",
      "Requirement already satisfied: ipython>=4.0.0 in /Users/septem9907/Documents/GitHub/In-Memory-Analytics-with-Apache-Arrow-/arrow_playground/lib/python3.9/site-packages (from ipywidgets<8,>=7.5.1->perspective-python) (8.5.0)\n",
      "Requirement already satisfied: pytz>=2020.1 in /Users/septem9907/Documents/GitHub/In-Memory-Analytics-with-Apache-Arrow-/arrow_playground/lib/python3.9/site-packages (from pandas>=0.22.0->perspective-python) (2022.5)\n",
      "Requirement already satisfied: six>=1.5 in /Users/septem9907/Documents/GitHub/In-Memory-Analytics-with-Apache-Arrow-/arrow_playground/lib/python3.9/site-packages (from python-dateutil>=2.8.0->perspective-python) (1.16.0)\n",
      "Requirement already satisfied: psutil in /Users/septem9907/Documents/GitHub/In-Memory-Analytics-with-Apache-Arrow-/arrow_playground/lib/python3.9/site-packages (from ipykernel>=4.5.1->ipywidgets<8,>=7.5.1->perspective-python) (5.9.3)\n",
      "Requirement already satisfied: appnope in /Users/septem9907/Documents/GitHub/In-Memory-Analytics-with-Apache-Arrow-/arrow_playground/lib/python3.9/site-packages (from ipykernel>=4.5.1->ipywidgets<8,>=7.5.1->perspective-python) (0.1.3)\n",
      "Requirement already satisfied: packaging in /Users/septem9907/Documents/GitHub/In-Memory-Analytics-with-Apache-Arrow-/arrow_playground/lib/python3.9/site-packages (from ipykernel>=4.5.1->ipywidgets<8,>=7.5.1->perspective-python) (21.3)\n",
      "Requirement already satisfied: nest-asyncio in /Users/septem9907/Documents/GitHub/In-Memory-Analytics-with-Apache-Arrow-/arrow_playground/lib/python3.9/site-packages (from ipykernel>=4.5.1->ipywidgets<8,>=7.5.1->perspective-python) (1.5.6)\n",
      "Requirement already satisfied: debugpy>=1.0 in /Users/septem9907/Documents/GitHub/In-Memory-Analytics-with-Apache-Arrow-/arrow_playground/lib/python3.9/site-packages (from ipykernel>=4.5.1->ipywidgets<8,>=7.5.1->perspective-python) (1.6.3)\n",
      "Requirement already satisfied: jupyter-client>=6.1.12 in /Users/septem9907/Documents/GitHub/In-Memory-Analytics-with-Apache-Arrow-/arrow_playground/lib/python3.9/site-packages (from ipykernel>=4.5.1->ipywidgets<8,>=7.5.1->perspective-python) (7.4.4)\n",
      "Requirement already satisfied: pyzmq>=17 in /Users/septem9907/Documents/GitHub/In-Memory-Analytics-with-Apache-Arrow-/arrow_playground/lib/python3.9/site-packages (from ipykernel>=4.5.1->ipywidgets<8,>=7.5.1->perspective-python) (24.0.1)\n",
      "Requirement already satisfied: matplotlib-inline>=0.1 in /Users/septem9907/Documents/GitHub/In-Memory-Analytics-with-Apache-Arrow-/arrow_playground/lib/python3.9/site-packages (from ipykernel>=4.5.1->ipywidgets<8,>=7.5.1->perspective-python) (0.1.6)\n",
      "Requirement already satisfied: tornado>=6.1 in /Users/septem9907/Documents/GitHub/In-Memory-Analytics-with-Apache-Arrow-/arrow_playground/lib/python3.9/site-packages (from ipykernel>=4.5.1->ipywidgets<8,>=7.5.1->perspective-python) (6.2)\n",
      "Requirement already satisfied: pexpect>4.3 in /Users/septem9907/Documents/GitHub/In-Memory-Analytics-with-Apache-Arrow-/arrow_playground/lib/python3.9/site-packages (from ipython>=4.0.0->ipywidgets<8,>=7.5.1->perspective-python) (4.8.0)\n",
      "Requirement already satisfied: pygments>=2.4.0 in /Users/septem9907/Documents/GitHub/In-Memory-Analytics-with-Apache-Arrow-/arrow_playground/lib/python3.9/site-packages (from ipython>=4.0.0->ipywidgets<8,>=7.5.1->perspective-python) (2.13.0)\n",
      "Requirement already satisfied: jedi>=0.16 in /Users/septem9907/Documents/GitHub/In-Memory-Analytics-with-Apache-Arrow-/arrow_playground/lib/python3.9/site-packages (from ipython>=4.0.0->ipywidgets<8,>=7.5.1->perspective-python) (0.18.1)\n",
      "Requirement already satisfied: pickleshare in /Users/septem9907/Documents/GitHub/In-Memory-Analytics-with-Apache-Arrow-/arrow_playground/lib/python3.9/site-packages (from ipython>=4.0.0->ipywidgets<8,>=7.5.1->perspective-python) (0.7.5)\n",
      "Requirement already satisfied: prompt-toolkit<3.1.0,>3.0.1 in /Users/septem9907/Documents/GitHub/In-Memory-Analytics-with-Apache-Arrow-/arrow_playground/lib/python3.9/site-packages (from ipython>=4.0.0->ipywidgets<8,>=7.5.1->perspective-python) (3.0.31)\n",
      "Requirement already satisfied: backcall in /Users/septem9907/Documents/GitHub/In-Memory-Analytics-with-Apache-Arrow-/arrow_playground/lib/python3.9/site-packages (from ipython>=4.0.0->ipywidgets<8,>=7.5.1->perspective-python) (0.2.0)\n",
      "Requirement already satisfied: stack-data in /Users/septem9907/Documents/GitHub/In-Memory-Analytics-with-Apache-Arrow-/arrow_playground/lib/python3.9/site-packages (from ipython>=4.0.0->ipywidgets<8,>=7.5.1->perspective-python) (0.5.1)\n",
      "Requirement already satisfied: decorator in /Users/septem9907/Documents/GitHub/In-Memory-Analytics-with-Apache-Arrow-/arrow_playground/lib/python3.9/site-packages (from ipython>=4.0.0->ipywidgets<8,>=7.5.1->perspective-python) (5.1.1)\n",
      "Requirement already satisfied: notebook>=4.4.1 in /Users/septem9907/Documents/GitHub/In-Memory-Analytics-with-Apache-Arrow-/arrow_playground/lib/python3.9/site-packages (from widgetsnbextension~=3.6.0->ipywidgets<8,>=7.5.1->perspective-python) (6.5.1)\n",
      "Requirement already satisfied: parso<0.9.0,>=0.8.0 in /Users/septem9907/Documents/GitHub/In-Memory-Analytics-with-Apache-Arrow-/arrow_playground/lib/python3.9/site-packages (from jedi>=0.16->ipython>=4.0.0->ipywidgets<8,>=7.5.1->perspective-python) (0.8.3)\n",
      "Requirement already satisfied: entrypoints in /Users/septem9907/Documents/GitHub/In-Memory-Analytics-with-Apache-Arrow-/arrow_playground/lib/python3.9/site-packages (from jupyter-client>=6.1.12->ipykernel>=4.5.1->ipywidgets<8,>=7.5.1->perspective-python) (0.4)\n",
      "Requirement already satisfied: jupyter-core>=4.9.2 in /Users/septem9907/Documents/GitHub/In-Memory-Analytics-with-Apache-Arrow-/arrow_playground/lib/python3.9/site-packages (from jupyter-client>=6.1.12->ipykernel>=4.5.1->ipywidgets<8,>=7.5.1->perspective-python) (4.11.2)\n",
      "Requirement already satisfied: terminado>=0.8.3 in /Users/septem9907/Documents/GitHub/In-Memory-Analytics-with-Apache-Arrow-/arrow_playground/lib/python3.9/site-packages (from notebook>=4.4.1->widgetsnbextension~=3.6.0->ipywidgets<8,>=7.5.1->perspective-python) (0.17.0)\n",
      "Requirement already satisfied: argon2-cffi in /Users/septem9907/Documents/GitHub/In-Memory-Analytics-with-Apache-Arrow-/arrow_playground/lib/python3.9/site-packages (from notebook>=4.4.1->widgetsnbextension~=3.6.0->ipywidgets<8,>=7.5.1->perspective-python) (21.3.0)\n",
      "Requirement already satisfied: prometheus-client in /Users/septem9907/Documents/GitHub/In-Memory-Analytics-with-Apache-Arrow-/arrow_playground/lib/python3.9/site-packages (from notebook>=4.4.1->widgetsnbextension~=3.6.0->ipywidgets<8,>=7.5.1->perspective-python) (0.15.0)\n",
      "Requirement already satisfied: nbformat in /Users/septem9907/Documents/GitHub/In-Memory-Analytics-with-Apache-Arrow-/arrow_playground/lib/python3.9/site-packages (from notebook>=4.4.1->widgetsnbextension~=3.6.0->ipywidgets<8,>=7.5.1->perspective-python) (5.7.0)\n",
      "Requirement already satisfied: nbconvert>=5 in /Users/septem9907/Documents/GitHub/In-Memory-Analytics-with-Apache-Arrow-/arrow_playground/lib/python3.9/site-packages (from notebook>=4.4.1->widgetsnbextension~=3.6.0->ipywidgets<8,>=7.5.1->perspective-python) (7.2.2)\n",
      "Requirement already satisfied: jinja2 in /Users/septem9907/Documents/GitHub/In-Memory-Analytics-with-Apache-Arrow-/arrow_playground/lib/python3.9/site-packages (from notebook>=4.4.1->widgetsnbextension~=3.6.0->ipywidgets<8,>=7.5.1->perspective-python) (3.1.2)\n",
      "Requirement already satisfied: nbclassic==0.4.5 in /Users/septem9907/Documents/GitHub/In-Memory-Analytics-with-Apache-Arrow-/arrow_playground/lib/python3.9/site-packages (from notebook>=4.4.1->widgetsnbextension~=3.6.0->ipywidgets<8,>=7.5.1->perspective-python) (0.4.5)\n",
      "Requirement already satisfied: Send2Trash>=1.8.0 in /Users/septem9907/Documents/GitHub/In-Memory-Analytics-with-Apache-Arrow-/arrow_playground/lib/python3.9/site-packages (from notebook>=4.4.1->widgetsnbextension~=3.6.0->ipywidgets<8,>=7.5.1->perspective-python) (1.8.0)\n",
      "Requirement already satisfied: notebook-shim>=0.1.0 in /Users/septem9907/Documents/GitHub/In-Memory-Analytics-with-Apache-Arrow-/arrow_playground/lib/python3.9/site-packages (from nbclassic==0.4.5->notebook>=4.4.1->widgetsnbextension~=3.6.0->ipywidgets<8,>=7.5.1->perspective-python) (0.2.0)\n",
      "Requirement already satisfied: jupyter-server>=1.8 in /Users/septem9907/Documents/GitHub/In-Memory-Analytics-with-Apache-Arrow-/arrow_playground/lib/python3.9/site-packages (from nbclassic==0.4.5->notebook>=4.4.1->widgetsnbextension~=3.6.0->ipywidgets<8,>=7.5.1->perspective-python) (1.21.0)\n",
      "Requirement already satisfied: ptyprocess>=0.5 in /Users/septem9907/Documents/GitHub/In-Memory-Analytics-with-Apache-Arrow-/arrow_playground/lib/python3.9/site-packages (from pexpect>4.3->ipython>=4.0.0->ipywidgets<8,>=7.5.1->perspective-python) (0.7.0)\n",
      "Requirement already satisfied: wcwidth in /Users/septem9907/Documents/GitHub/In-Memory-Analytics-with-Apache-Arrow-/arrow_playground/lib/python3.9/site-packages (from prompt-toolkit<3.1.0,>3.0.1->ipython>=4.0.0->ipywidgets<8,>=7.5.1->perspective-python) (0.2.5)\n",
      "Requirement already satisfied: pyparsing!=3.0.5,>=2.0.2 in /Users/septem9907/Documents/GitHub/In-Memory-Analytics-with-Apache-Arrow-/arrow_playground/lib/python3.9/site-packages (from packaging->ipykernel>=4.5.1->ipywidgets<8,>=7.5.1->perspective-python) (3.0.9)\n",
      "Requirement already satisfied: pure-eval in /Users/septem9907/Documents/GitHub/In-Memory-Analytics-with-Apache-Arrow-/arrow_playground/lib/python3.9/site-packages (from stack-data->ipython>=4.0.0->ipywidgets<8,>=7.5.1->perspective-python) (0.2.2)\n",
      "Requirement already satisfied: executing in /Users/septem9907/Documents/GitHub/In-Memory-Analytics-with-Apache-Arrow-/arrow_playground/lib/python3.9/site-packages (from stack-data->ipython>=4.0.0->ipywidgets<8,>=7.5.1->perspective-python) (1.1.1)\n",
      "Requirement already satisfied: asttokens in /Users/septem9907/Documents/GitHub/In-Memory-Analytics-with-Apache-Arrow-/arrow_playground/lib/python3.9/site-packages (from stack-data->ipython>=4.0.0->ipywidgets<8,>=7.5.1->perspective-python) (2.0.8)\n",
      "Requirement already satisfied: pandocfilters>=1.4.1 in /Users/septem9907/Documents/GitHub/In-Memory-Analytics-with-Apache-Arrow-/arrow_playground/lib/python3.9/site-packages (from nbconvert>=5->notebook>=4.4.1->widgetsnbextension~=3.6.0->ipywidgets<8,>=7.5.1->perspective-python) (1.5.0)\n",
      "Requirement already satisfied: importlib-metadata>=3.6 in /Users/septem9907/Documents/GitHub/In-Memory-Analytics-with-Apache-Arrow-/arrow_playground/lib/python3.9/site-packages (from nbconvert>=5->notebook>=4.4.1->widgetsnbextension~=3.6.0->ipywidgets<8,>=7.5.1->perspective-python) (5.0.0)\n",
      "Requirement already satisfied: jupyterlab-pygments in /Users/septem9907/Documents/GitHub/In-Memory-Analytics-with-Apache-Arrow-/arrow_playground/lib/python3.9/site-packages (from nbconvert>=5->notebook>=4.4.1->widgetsnbextension~=3.6.0->ipywidgets<8,>=7.5.1->perspective-python) (0.2.2)\n",
      "Requirement already satisfied: tinycss2 in /Users/septem9907/Documents/GitHub/In-Memory-Analytics-with-Apache-Arrow-/arrow_playground/lib/python3.9/site-packages (from nbconvert>=5->notebook>=4.4.1->widgetsnbextension~=3.6.0->ipywidgets<8,>=7.5.1->perspective-python) (1.2.1)\n",
      "Requirement already satisfied: markupsafe>=2.0 in /Users/septem9907/Documents/GitHub/In-Memory-Analytics-with-Apache-Arrow-/arrow_playground/lib/python3.9/site-packages (from nbconvert>=5->notebook>=4.4.1->widgetsnbextension~=3.6.0->ipywidgets<8,>=7.5.1->perspective-python) (2.1.1)\n",
      "Requirement already satisfied: mistune<3,>=2.0.3 in /Users/septem9907/Documents/GitHub/In-Memory-Analytics-with-Apache-Arrow-/arrow_playground/lib/python3.9/site-packages (from nbconvert>=5->notebook>=4.4.1->widgetsnbextension~=3.6.0->ipywidgets<8,>=7.5.1->perspective-python) (2.0.4)\n",
      "Requirement already satisfied: bleach in /Users/septem9907/Documents/GitHub/In-Memory-Analytics-with-Apache-Arrow-/arrow_playground/lib/python3.9/site-packages (from nbconvert>=5->notebook>=4.4.1->widgetsnbextension~=3.6.0->ipywidgets<8,>=7.5.1->perspective-python) (5.0.1)\n",
      "Requirement already satisfied: beautifulsoup4 in /Users/septem9907/Documents/GitHub/In-Memory-Analytics-with-Apache-Arrow-/arrow_playground/lib/python3.9/site-packages (from nbconvert>=5->notebook>=4.4.1->widgetsnbextension~=3.6.0->ipywidgets<8,>=7.5.1->perspective-python) (4.11.1)\n",
      "Requirement already satisfied: nbclient>=0.5.0 in /Users/septem9907/Documents/GitHub/In-Memory-Analytics-with-Apache-Arrow-/arrow_playground/lib/python3.9/site-packages (from nbconvert>=5->notebook>=4.4.1->widgetsnbextension~=3.6.0->ipywidgets<8,>=7.5.1->perspective-python) (0.7.0)\n",
      "Requirement already satisfied: defusedxml in /Users/septem9907/Documents/GitHub/In-Memory-Analytics-with-Apache-Arrow-/arrow_playground/lib/python3.9/site-packages (from nbconvert>=5->notebook>=4.4.1->widgetsnbextension~=3.6.0->ipywidgets<8,>=7.5.1->perspective-python) (0.7.1)\n",
      "Requirement already satisfied: jsonschema>=2.6 in /Users/septem9907/Documents/GitHub/In-Memory-Analytics-with-Apache-Arrow-/arrow_playground/lib/python3.9/site-packages (from nbformat->notebook>=4.4.1->widgetsnbextension~=3.6.0->ipywidgets<8,>=7.5.1->perspective-python) (4.16.0)\n",
      "Requirement already satisfied: fastjsonschema in /Users/septem9907/Documents/GitHub/In-Memory-Analytics-with-Apache-Arrow-/arrow_playground/lib/python3.9/site-packages (from nbformat->notebook>=4.4.1->widgetsnbextension~=3.6.0->ipywidgets<8,>=7.5.1->perspective-python) (2.16.2)\n",
      "Requirement already satisfied: argon2-cffi-bindings in /Users/septem9907/Documents/GitHub/In-Memory-Analytics-with-Apache-Arrow-/arrow_playground/lib/python3.9/site-packages (from argon2-cffi->notebook>=4.4.1->widgetsnbextension~=3.6.0->ipywidgets<8,>=7.5.1->perspective-python) (21.2.0)\n",
      "Requirement already satisfied: zipp>=0.5 in /Users/septem9907/Documents/GitHub/In-Memory-Analytics-with-Apache-Arrow-/arrow_playground/lib/python3.9/site-packages (from importlib-metadata>=3.6->nbconvert>=5->notebook>=4.4.1->widgetsnbextension~=3.6.0->ipywidgets<8,>=7.5.1->perspective-python) (3.10.0)\n",
      "Requirement already satisfied: pyrsistent!=0.17.0,!=0.17.1,!=0.17.2,>=0.14.0 in /Users/septem9907/Documents/GitHub/In-Memory-Analytics-with-Apache-Arrow-/arrow_playground/lib/python3.9/site-packages (from jsonschema>=2.6->nbformat->notebook>=4.4.1->widgetsnbextension~=3.6.0->ipywidgets<8,>=7.5.1->perspective-python) (0.18.1)\n",
      "Requirement already satisfied: attrs>=17.4.0 in /Users/septem9907/Documents/GitHub/In-Memory-Analytics-with-Apache-Arrow-/arrow_playground/lib/python3.9/site-packages (from jsonschema>=2.6->nbformat->notebook>=4.4.1->widgetsnbextension~=3.6.0->ipywidgets<8,>=7.5.1->perspective-python) (22.1.0)\n",
      "Requirement already satisfied: anyio<4,>=3.1.0 in /Users/septem9907/Documents/GitHub/In-Memory-Analytics-with-Apache-Arrow-/arrow_playground/lib/python3.9/site-packages (from jupyter-server>=1.8->nbclassic==0.4.5->notebook>=4.4.1->widgetsnbextension~=3.6.0->ipywidgets<8,>=7.5.1->perspective-python) (3.6.2)\n",
      "Requirement already satisfied: websocket-client in /Users/septem9907/Documents/GitHub/In-Memory-Analytics-with-Apache-Arrow-/arrow_playground/lib/python3.9/site-packages (from jupyter-server>=1.8->nbclassic==0.4.5->notebook>=4.4.1->widgetsnbextension~=3.6.0->ipywidgets<8,>=7.5.1->perspective-python) (1.4.1)\n",
      "Requirement already satisfied: cffi>=1.0.1 in /Users/septem9907/Documents/GitHub/In-Memory-Analytics-with-Apache-Arrow-/arrow_playground/lib/python3.9/site-packages (from argon2-cffi-bindings->argon2-cffi->notebook>=4.4.1->widgetsnbextension~=3.6.0->ipywidgets<8,>=7.5.1->perspective-python) (1.15.1)\n",
      "Requirement already satisfied: soupsieve>1.2 in /Users/septem9907/Documents/GitHub/In-Memory-Analytics-with-Apache-Arrow-/arrow_playground/lib/python3.9/site-packages (from beautifulsoup4->nbconvert>=5->notebook>=4.4.1->widgetsnbextension~=3.6.0->ipywidgets<8,>=7.5.1->perspective-python) (2.3.2.post1)\n",
      "Requirement already satisfied: webencodings in /Users/septem9907/Documents/GitHub/In-Memory-Analytics-with-Apache-Arrow-/arrow_playground/lib/python3.9/site-packages (from bleach->nbconvert>=5->notebook>=4.4.1->widgetsnbextension~=3.6.0->ipywidgets<8,>=7.5.1->perspective-python) (0.5.1)\n",
      "Requirement already satisfied: idna>=2.8 in /Users/septem9907/Documents/GitHub/In-Memory-Analytics-with-Apache-Arrow-/arrow_playground/lib/python3.9/site-packages (from anyio<4,>=3.1.0->jupyter-server>=1.8->nbclassic==0.4.5->notebook>=4.4.1->widgetsnbextension~=3.6.0->ipywidgets<8,>=7.5.1->perspective-python) (3.4)\n",
      "Requirement already satisfied: sniffio>=1.1 in /Users/septem9907/Documents/GitHub/In-Memory-Analytics-with-Apache-Arrow-/arrow_playground/lib/python3.9/site-packages (from anyio<4,>=3.1.0->jupyter-server>=1.8->nbclassic==0.4.5->notebook>=4.4.1->widgetsnbextension~=3.6.0->ipywidgets<8,>=7.5.1->perspective-python) (1.3.0)\n",
      "Requirement already satisfied: pycparser in /Users/septem9907/Documents/GitHub/In-Memory-Analytics-with-Apache-Arrow-/arrow_playground/lib/python3.9/site-packages (from cffi>=1.0.1->argon2-cffi-bindings->argon2-cffi->notebook>=4.4.1->widgetsnbextension~=3.6.0->ipywidgets<8,>=7.5.1->perspective-python) (2.21)\n",
      "Building jupyterlab assets (production, minimized)\n",
      "Building jupyterlab assets (production, minimized)\n",
      "Enabling notebook extension jupyter-js-widgets/extension...\n",
      "      - Validating: \u001b[32mOK\u001b[0m\n"
     ]
    }
   ],
   "source": [
    "!pip install ipywidgets\n",
    "!pip install perspective-python\n",
    "!jupyter labextension install @jupyter-widgets/jupyterlab-manager\n",
    "!jupyter labextension install @finos/perspective-jupyterlab\n",
    "!jupyter nbextension enable --py widgetsnbextension --sys-prefix"
   ]
  },
  {
   "cell_type": "code",
   "execution_count": null,
   "id": "dac37c23-d54a-42d7-92a9-b6675f22c305",
   "metadata": {},
   "outputs": [],
   "source": []
  }
 ],
 "metadata": {
  "kernelspec": {
   "display_name": "Python 3 (ipykernel)",
   "language": "python",
   "name": "python3"
  },
  "language_info": {
   "codemirror_mode": {
    "name": "ipython",
    "version": 3
   },
   "file_extension": ".py",
   "mimetype": "text/x-python",
   "name": "python",
   "nbconvert_exporter": "python",
   "pygments_lexer": "ipython3",
   "version": "3.9.1"
  },
  "vscode": {
   "interpreter": {
    "hash": "ae7bf4a0c316c5227170a0064f2c1645dfae44ccce10ce8c46ba42b649d8a379"
   }
  }
 },
 "nbformat": 4,
 "nbformat_minor": 5
}
